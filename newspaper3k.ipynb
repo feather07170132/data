{
  "nbformat": 4,
  "nbformat_minor": 0,
  "metadata": {
    "colab": {
      "provenance": [],
      "toc_visible": true,
      "authorship_tag": "ABX9TyPQNsra1/3dG9h6Kx4ZOreZ",
      "include_colab_link": true
    },
    "kernelspec": {
      "name": "python3",
      "display_name": "Python 3"
    },
    "language_info": {
      "name": "python"
    }
  },
  "cells": [
    {
      "cell_type": "markdown",
      "metadata": {
        "id": "view-in-github",
        "colab_type": "text"
      },
      "source": [
        "<a href=\"https://colab.research.google.com/github/feather07170132/data/blob/main/newspaper3k.ipynb\" target=\"_parent\"><img src=\"https://colab.research.google.com/assets/colab-badge.svg\" alt=\"Open In Colab\"/></a>"
      ]
    },
    {
      "cell_type": "code",
      "execution_count": null,
      "metadata": {
        "id": "vlkaZn-V_9sP"
      },
      "outputs": [],
      "source": [
        "!pip install newspaper3k"
      ]
    },
    {
      "cell_type": "markdown",
      "source": [
        "# 一頁newspaper\n"
      ],
      "metadata": {
        "id": "4gmuNdkCdF5a"
      }
    },
    {
      "cell_type": "code",
      "source": [
        "from newspaper import Article\n",
        "url = 'https://health.tvbs.com.tw/medical/334945'\n",
        "article = Article(url,language='zh')#可選語言\n",
        "article.download()\n",
        "article.parse() #用lxml解析網站"
      ],
      "metadata": {
        "id": "Ven5JozwdF5c"
      },
      "execution_count": null,
      "outputs": []
    },
    {
      "cell_type": "code",
      "source": [
        "print(article.text)#文章內容"
      ],
      "metadata": {
        "id": "TLufiyKddF5d",
        "colab": {
          "base_uri": "https://localhost:8080/"
        },
        "outputId": "4445f904-9386-4a21-ae30-f9ce3cea23bc"
      },
      "execution_count": null,
      "outputs": [
        {
          "output_type": "stream",
          "name": "stdout",
          "text": [
            "白內障是指眼球構造中的水晶體，由清澈透明變為混濁且硬化的狀態，會阻礙光線順利完全到達形成影像的視網膜，造成視覺模糊，因而在日常生活或工作上造成困擾。水晶體位於眼球裡的瞳孔後方，具有調節光線的功能，如照相機的鏡頭般，能使光線集中在底片上。\n",
            "\n",
            "▲白內障示意圖。\n",
            "\n",
            "白內障的成因及種類\n",
            "\n",
            "白內障是老年人最常見的眼科疾病之一，但不只侷限於老年人，除了年紀大，還會受遺傳、外傷、藥物或其他疾病等影響，以下為白內障的種類區分：\n",
            "\n",
            "1.老年性白內障\n",
            "\n",
            "因水晶體內細胞長期不斷堆積及氧化傷害，導致水晶體老化而混濁所致。一般在40歲以上才會開始發生，年齡愈大發生的機會也愈高，年紀在65歲至75歲之間者約有一半的老年人患有白內障，大於75歲者則有四分之三的人都患有白內障。\n",
            "\n",
            "2.先天性白內障\n",
            "\n",
            "可能因為遺傳或者是胎兒時期的感染等導致。\n",
            "\n",
            "3.外傷性白內障\n",
            "\n",
            "眼睛受撞擊、穿刺傷、電擊、高熱、放射線、化學藥品灼傷等。\n",
            "\n",
            "4.併發性白內障\n",
            "\n",
            "續發於眼疾，如青光眼、虹彩炎、高度近視、色素性網膜炎等眼部疾病。\n",
            "\n",
            "5.代謝性白內障\n",
            "\n",
            "因全身性疾病所引起的白內障，如糖尿病、低血鈣症、半乳糖血症、異位性皮膚炎等。\n",
            "\n",
            "6.藥物性白內障\n",
            "\n",
            "長期使用類固醇或特定藥物引發的白內障，如皮質類固醇、縮瞳劑等。\n",
            "\n",
            "白內障的常見症狀\n",
            "\n",
            "白內障症狀情況很多，常見的症狀有視力衰退模糊、近視度數增加、單眼複視、畏光或眩光、看東西感覺變得較昏黃、容易疲勞、會流淚或乾眼等。\n",
            "\n",
            "如果發現看東西覺得銳利度下降、色彩較以前褪色、立體感變差（例如上下樓梯或人行道容易踩空）、晚上容易眩光、近距離視力突然變好，代表可能已經有白內障初期的症狀，建議到眼科檢查。\n",
            "\n",
            "白內障會傳染嗎？\n",
            "\n",
            "白內障是一個慢慢老化過程，並不會傳染，每個人都有可能會碰到，身體狀態或習慣不好的人，會加速白內障年輕化的發生。\n",
            "\n",
            "看更多\n",
            "\n",
            "白內障／哪些人是危險族群？如何預防？用3C前必做6動作 護眼多吃6大營養素\n",
            "\n",
            "白內障／靠點眼藥水就能好？手術後還要戴眼鏡嗎？教你白內障術後照護原則\n",
            "\n",
            "白內障／治療一定要手術嗎？手術方法有哪些？人工水晶體健保、自費這樣挑\n",
            "\n",
            "白內障／中醫如何調理？拇指3穴位舒緩眼睛不適 3款茶飲護眼明目\n",
            "\n",
            "◎ 圖片來源／達志影像/shutterstock提供\n",
            "\n",
            "◎ 資料來源／衛生福利部南投醫院‧長庚醫院‧郭鐘元醫師‧林友祺醫師\n",
            "\n",
            "→疫後時代來臨，染疫怎麼辦？與疫共存怎麼防疫？快來看防疫懶人包！\n",
            "\n",
            "→健康資訊不漏接！點我加入【健康2.0 LINE好友】【FB粉絲頁】\n"
          ]
        }
      ]
    },
    {
      "cell_type": "code",
      "source": [
        "#轉成文字型態\n",
        "article_text = str(article.text)\n",
        "article_text"
      ],
      "metadata": {
        "id": "J1vqFWgLdF5e",
        "colab": {
          "base_uri": "https://localhost:8080/",
          "height": 227
        },
        "outputId": "02eb2938-7d69-458c-c566-1e78dd0d8ea2"
      },
      "execution_count": null,
      "outputs": [
        {
          "output_type": "execute_result",
          "data": {
            "text/plain": [
              "'白內障是指眼球構造中的水晶體，由清澈透明變為混濁且硬化的狀態，會阻礙光線順利完全到達形成影像的視網膜，造成視覺模糊，因而在日常生活或工作上造成困擾。水晶體位於眼球裡的瞳孔後方，具有調節光線的功能，如照相機的鏡頭般，能使光線集中在底片上。\\n\\n▲白內障示意圖。\\n\\n白內障的成因及種類\\n\\n白內障是老年人最常見的眼科疾病之一，但不只侷限於老年人，除了年紀大，還會受遺傳、外傷、藥物或其他疾病等影響，以下為白內障的種類區分：\\n\\n1.老年性白內障\\n\\n因水晶體內細胞長期不斷堆積及氧化傷害，導致水晶體老化而混濁所致。一般在40歲以上才會開始發生，年齡愈大發生的機會也愈高，年紀在65歲至75歲之間者約有一半的老年人患有白內障，大於75歲者則有四分之三的人都患有白內障。\\n\\n2.先天性白內障\\n\\n可能因為遺傳或者是胎兒時期的感染等導致。\\n\\n3.外傷性白內障\\n\\n眼睛受撞擊、穿刺傷、電擊、高熱、放射線、化學藥品灼傷等。\\n\\n4.併發性白內障\\n\\n續發於眼疾，如青光眼、虹彩炎、高度近視、色素性網膜炎等眼部疾病。\\n\\n5.代謝性白內障\\n\\n因全身性疾病所引起的白內障，如糖尿病、低血鈣症、半乳糖血症、異位性皮膚炎等。\\n\\n6.藥物性白內障\\n\\n長期使用類固醇或特定藥物引發的白內障，如皮質類固醇、縮瞳劑等。\\n\\n白內障的常見症狀\\n\\n白內障症狀情況很多，常見的症狀有視力衰退模糊、近視度數增加、單眼複視、畏光或眩光、看東西感覺變得較昏黃、容易疲勞、會流淚或乾眼等。\\n\\n如果發現看東西覺得銳利度下降、色彩較以前褪色、立體感變差（例如上下樓梯或人行道容易踩空）、晚上容易眩光、近距離視力突然變好，代表可能已經有白內障初期的症狀，建議到眼科檢查。\\n\\n白內障會傳染嗎？\\n\\n白內障是一個慢慢老化過程，並不會傳染，每個人都有可能會碰到，身體狀態或習慣不好的人，會加速白內障年輕化的發生。\\n\\n看更多\\n\\n白內障／哪些人是危險族群？如何預防？用3C前必做6動作 護眼多吃6大營養素\\n\\n白內障／靠點眼藥水就能好？手術後還要戴眼鏡嗎？教你白內障術後照護原則\\n\\n白內障／治療一定要手術嗎？手術方法有哪些？人工水晶體健保、自費這樣挑\\n\\n白內障／中醫如何調理？拇指3穴位舒緩眼睛不適 3款茶飲護眼明目\\n\\n◎ 圖片來源／達志影像/shutterstock提供\\n\\n◎ 資料來源／衛生福利部南投醫院‧長庚醫院‧郭鐘元醫師‧林友祺醫師\\n\\n→疫後時代來臨，染疫怎麼辦？與疫共存怎麼防疫？快來看防疫懶人包！\\n\\n→健康資訊不漏接！點我加入【健康2.0 LINE好友】【FB粉絲頁】'"
            ],
            "application/vnd.google.colaboratory.intrinsic+json": {
              "type": "string"
            }
          },
          "metadata": {},
          "execution_count": 14
        }
      ]
    },
    {
      "cell_type": "code",
      "source": [
        "#用dict儲存url和text\n",
        "thisdict = {\n",
        "  \"url\": url,\n",
        "  \"text\": article_text,\n",
        "}"
      ],
      "metadata": {
        "id": "w3IulBaSdF5f"
      },
      "execution_count": null,
      "outputs": []
    },
    {
      "cell_type": "code",
      "source": [
        "import pandas as pd\n",
        "df = pd.DataFrame(thisdict,index=[0]) #创建DataFrame对象时设定index"
      ],
      "metadata": {
        "id": "wRyxCHoDdF5g"
      },
      "execution_count": null,
      "outputs": []
    },
    {
      "cell_type": "code",
      "source": [
        "import nltk #https://www.nltk.org/data.html\n",
        "nltk.download('punkt')\n",
        "article.nlp()"
      ],
      "metadata": {
        "colab": {
          "base_uri": "https://localhost:8080/"
        },
        "outputId": "39180e18-ba94-4ae0-f4f7-6e592bffb246",
        "id": "B0kHc_7SdF5h"
      },
      "execution_count": null,
      "outputs": [
        {
          "output_type": "stream",
          "name": "stderr",
          "text": [
            "[nltk_data] Downloading package punkt to /root/nltk_data...\n",
            "[nltk_data]   Unzipping tokenizers/punkt.zip.\n"
          ]
        }
      ]
    },
    {
      "cell_type": "code",
      "source": [
        "article.keywords"
      ],
      "metadata": {
        "id": "WtiyoRRPdF5i",
        "colab": {
          "base_uri": "https://localhost:8080/"
        },
        "outputId": "24aba88e-ca79-4dfa-8714-331eaade0a7d"
      },
      "execution_count": null,
      "outputs": [
        {
          "output_type": "execute_result",
          "data": {
            "text/plain": [
              "['資料來源衛生福利部南投醫院長庚醫院郭鐘元醫師林友祺醫師疫後時代來臨染疫怎麼辦與疫共存怎麼防疫快來看防疫懶人包健康資訊不漏接點我加入健康20',\n",
              " 'line好友fb粉絲頁',\n",
              " '白內障是指眼球構造中的水晶體由清澈透明變為混濁且硬化的狀態會阻礙光線順利完全到達形成影像的視網膜造成視覺模糊因而在日常生活或工作上造成困擾水晶體位於眼球裡的瞳孔後方具有調節光線的功能如照相機的鏡頭般能使光線集中在底片上白內障示意圖白內障的成因及種類白內障是老年人最常見的眼科疾病之一但不只侷限於老年人除了年紀大還會受遺傳外傷藥物或其他疾病等影響以下為白內障的種類區分1老年性白內障因水晶體內細胞長期不斷堆積及氧化傷害導致水晶體老化而混濁所致一般在40歲以上才會開始發生年齡愈大發生的機會也愈高年紀在65歲至75歲之間者約有一半的老年人患有白內障大於75歲者則有四分之三的人都患有白內障2先天性白內障可能因為遺傳或者是胎兒時期的感染等導致3外傷性白內障眼睛受撞擊穿刺傷電擊高熱放射線化學藥品灼傷等4併發性白內障續發於眼疾如青光眼虹彩炎高度近視色素性網膜炎等眼部疾病5代謝性白內障因全身性疾病所引起的白內障如糖尿病低血鈣症半乳糖血症異位性皮膚炎等6藥物性白內障長期使用類固醇或特定藥物引發的白內障如皮質類固醇縮瞳劑等白內障的常見症狀白內障症狀情況很多常見的症狀有視力衰退模糊近視度數增加單眼複視畏光或眩光看東西感覺變得較昏黃容易疲勞會流淚或乾眼等如果發現看東西覺得銳利度下降色彩較以前褪色立體感變差例如上下樓梯或人行道容易踩空晚上容易眩光近距離視力突然變好代表可能已經有白內障初期的症狀建議到眼科檢查白內障會傳染嗎白內障是一個慢慢老化過程並不會傳染每個人都有可能會碰到身體狀態或習慣不好的人會加速白內障年輕化的發生看更多白內障哪些人是危險族群如何預防用3c前必做6動作',\n",
              " '圖片來源達志影像shutterstock提供',\n",
              " '白內障不只老人會得成因種類有哪些出現這些症狀小心是前兆健康20',\n",
              " '護眼多吃6大營養素白內障靠點眼藥水就能好手術後還要戴眼鏡嗎教你白內障術後照護原則白內障治療一定要手術嗎手術方法有哪些人工水晶體健保自費這樣挑白內障中醫如何調理拇指3穴位舒緩眼睛不適',\n",
              " '3款茶飲護眼明目']"
            ]
          },
          "metadata": {},
          "execution_count": 21
        }
      ]
    },
    {
      "cell_type": "code",
      "source": [
        "article.title"
      ],
      "metadata": {
        "id": "Fjf70d52lj1L",
        "outputId": "3572cbad-1cff-444e-b6ed-6f480356acb4",
        "colab": {
          "base_uri": "https://localhost:8080/",
          "height": 36
        }
      },
      "execution_count": null,
      "outputs": [
        {
          "output_type": "execute_result",
          "data": {
            "text/plain": [
              "'白內障／不只老人會得！成因、種類有哪些？出現這些症狀小心是前兆｜健康2.0'"
            ],
            "application/vnd.google.colaboratory.intrinsic+json": {
              "type": "string"
            }
          },
          "metadata": {},
          "execution_count": 23
        }
      ]
    },
    {
      "cell_type": "markdown",
      "source": [
        "# 自由時報\n"
      ],
      "metadata": {
        "id": "aBIW6Qvpcpix"
      }
    },
    {
      "cell_type": "markdown",
      "source": [
        "爬取url"
      ],
      "metadata": {
        "id": "JPShmP7Oc4FD"
      }
    },
    {
      "cell_type": "code",
      "source": [
        "from newspaper import Article\n",
        "import requests as rq\n",
        "from bs4 import BeautifulSoup\n",
        "#自由時報沒有api，所以使用lxml去解析\n",
        "r = rq.get(\"https://search.ltn.com.tw/list?keyword=%E8%80%81%E4%BA%BA%E5%81%A5%E5%BA%B7\")\n",
        "soup = BeautifulSoup(r.text,\"lxml\")\n",
        "#爬取16頁\n",
        "data_to_list = []\n",
        "STOP = False\n",
        "for page in range(17):\n",
        "    url = 'https://search.ltn.com.tw/list?keyword=%E8%80%81%E4%BA%BA%E5%81%A5%E5%BA%B7&start_time=20041201&end_time=20220728&sort=date&type=all&page={}'.format(page)\n",
        "    r = rq.get(url)\n",
        "    soup = BeautifulSoup(r.text,\"lxml\")\n",
        "    for i in range(0, len(soup.select(\"div.cont\"))):\n",
        "        print(soup.select(\"div.cont\")[i]['href'])\n",
        "        temp = soup.select(\"div.cont\")[i]['href']\n",
        "        data_to_list.append(temp)\n",
        "        print(page)"
      ],
      "metadata": {
        "id": "s65u2n3sPDM7"
      },
      "execution_count": null,
      "outputs": []
    },
    {
      "cell_type": "code",
      "source": [],
      "metadata": {
        "id": "X2ldolH5haNq"
      },
      "execution_count": null,
      "outputs": []
    },
    {
      "cell_type": "code",
      "source": [
        "url_list = []\n",
        "text_list = []\n",
        "for i in range(332):\n",
        "  url = data_to_list[i]\n",
        "  article = Article(url,language='zh')#可選語言\n",
        "  article.download()\n",
        "  article.parse() #用lxml解析網站\n",
        "  article_text = str(article.text)\n",
        "  url_list.append(url)\n",
        "  text_list.append(article_text)\n"
      ],
      "metadata": {
        "id": "8jBPsiUuPjxa",
        "colab": {
          "base_uri": "https://localhost:8080/"
        },
        "outputId": "7a1f5ec9-e446-4a2c-d46e-d8d2a6e1ecdc"
      },
      "execution_count": null,
      "outputs": [
        {
          "output_type": "stream",
          "name": "stderr",
          "text": [
            "Building prefix dict from /usr/local/lib/python3.7/dist-packages/jieba/dict.txt ...\n",
            "DEBUG:jieba:Building prefix dict from /usr/local/lib/python3.7/dist-packages/jieba/dict.txt ...\n",
            "Dumping model to file cache /tmp/jieba.cache\n",
            "DEBUG:jieba:Dumping model to file cache /tmp/jieba.cache\n",
            "Loading model cost 1.7481253147125244 seconds.\n",
            "DEBUG:jieba:Loading model cost 1.7481253147125244 seconds.\n",
            "Prefix dict has been built succesfully.\n",
            "DEBUG:jieba:Prefix dict has been built succesfully.\n"
          ]
        }
      ]
    },
    {
      "cell_type": "code",
      "source": [
        "url_list[0]"
      ],
      "metadata": {
        "colab": {
          "base_uri": "https://localhost:8080/",
          "height": 36
        },
        "id": "LAXHK1y-REYq",
        "outputId": "2a506d51-1d0c-4533-b105-67321bfa3f96"
      },
      "execution_count": null,
      "outputs": [
        {
          "output_type": "execute_result",
          "data": {
            "text/plain": [
              "'https://news.ltn.com.tw/news/life/paper/1509508'"
            ],
            "application/vnd.google.colaboratory.intrinsic+json": {
              "type": "string"
            }
          },
          "metadata": {},
          "execution_count": 6
        }
      ]
    },
    {
      "cell_type": "code",
      "source": [
        "thisdict = {\n",
        "  \"url\": url_list,\n",
        "  \"text\": text_list,\n",
        "}"
      ],
      "metadata": {
        "id": "kC3zbVJbRViJ"
      },
      "execution_count": null,
      "outputs": []
    },
    {
      "cell_type": "code",
      "source": [
        "thisdict"
      ],
      "metadata": {
        "id": "v6oPA-LkbhsK"
      },
      "execution_count": null,
      "outputs": []
    },
    {
      "cell_type": "code",
      "source": [
        "import pandas as pd\n",
        "df = pd.DataFrame(thisdict)\n",
        "len(text_list) "
      ],
      "metadata": {
        "id": "nrjHmdilRW0t",
        "colab": {
          "base_uri": "https://localhost:8080/"
        },
        "outputId": "5ce1d5a6-22ec-416f-b048-a46586744613"
      },
      "execution_count": null,
      "outputs": [
        {
          "output_type": "execute_result",
          "data": {
            "text/plain": [
              "332"
            ]
          },
          "metadata": {},
          "execution_count": 9
        }
      ]
    },
    {
      "cell_type": "code",
      "source": [
        "df.to_csv(\"自由時報.csv\", encoding='utf-8-sig')"
      ],
      "metadata": {
        "id": "nWcGnFedRafg"
      },
      "execution_count": null,
      "outputs": []
    },
    {
      "cell_type": "code",
      "source": [
        "article.keywords"
      ],
      "metadata": {
        "id": "tPJbmnWBemD_",
        "colab": {
          "base_uri": "https://localhost:8080/"
        },
        "outputId": "c75b7d5b-ad4f-4733-f1a7-059567fad6f7"
      },
      "execution_count": null,
      "outputs": [
        {
          "output_type": "execute_result",
          "data": {
            "text/plain": [
              "[]"
            ]
          },
          "metadata": {},
          "execution_count": 11
        }
      ]
    },
    {
      "cell_type": "markdown",
      "source": [
        "# 新增區段"
      ],
      "metadata": {
        "id": "w8qJdlVn9C5E"
      }
    },
    {
      "cell_type": "code",
      "source": [],
      "metadata": {
        "id": "FmexV4re9D_j"
      },
      "execution_count": null,
      "outputs": []
    }
  ]
}